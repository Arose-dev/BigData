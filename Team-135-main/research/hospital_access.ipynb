{
  "nbformat": 4,
  "nbformat_minor": 0,
  "metadata": {
    "colab": {
      "private_outputs": true,
      "provenance": []
    },
    "kernelspec": {
      "name": "python3",
      "display_name": "Python 3"
    },
    "language_info": {
      "name": "python"
    }
  },
  "cells": [
    {
      "cell_type": "code",
      "source": [
        "!pip install googlemaps"
      ],
      "metadata": {
        "collapsed": true,
        "id": "zFE4jkPUMquH"
      },
      "execution_count": null,
      "outputs": []
    },
    {
      "cell_type": "code",
      "execution_count": null,
      "metadata": {
        "id": "JXHDHO1Q6XuW"
      },
      "outputs": [],
      "source": [
        "from google.colab import userdata\n",
        "import googlemaps\n",
        "import requests\n",
        "import pandas as pd\n",
        "import matplotlib.pyplot as plt\n",
        "import seaborn as sns"
      ]
    },
    {
      "cell_type": "markdown",
      "source": [
        "### Finding the hospital count by simply querying google maps"
      ],
      "metadata": {
        "id": "8771-FVg8V9p"
      }
    },
    {
      "cell_type": "code",
      "source": [
        "county_data = pd.read_csv('/content/us-county-boundaries.csv', delimiter=';')"
      ],
      "metadata": {
        "id": "Uzr-35rr6i9y"
      },
      "execution_count": null,
      "outputs": []
    },
    {
      "cell_type": "code",
      "source": [
        "def get_hospitals_in_county(county_name, api_key):\n",
        "    url = f\"https://maps.googleapis.com/maps/api/place/textsearch/json?query=hospitals+in+{county_name}+county&key={api_key}\"\n",
        "    response = requests.get(url)\n",
        "    results = response.json().get('results', [])\n",
        "    return len(results)"
      ],
      "metadata": {
        "id": "JCRNBaqH6lCy"
      },
      "execution_count": null,
      "outputs": []
    },
    {
      "cell_type": "code",
      "source": [
        "api_key = userdata.get('googlemaps')\n",
        "county_data['hospital_count'] = county_data['NAME'].apply(lambda x: get_hospitals_in_county(x, api_key))"
      ],
      "metadata": {
        "id": "XceVzxec7JPO"
      },
      "execution_count": null,
      "outputs": []
    },
    {
      "cell_type": "code",
      "source": [
        "county_data[['NAMELSAD', 'hospital_count']].to_csv('hospitals_per_county.csv', index=False)"
      ],
      "metadata": {
        "id": "bho28m-b7ND3"
      },
      "execution_count": null,
      "outputs": []
    },
    {
      "cell_type": "markdown",
      "source": [
        "### Finding transit options around each hospital"
      ],
      "metadata": {
        "id": "FHxPRaf48dyl"
      }
    },
    {
      "cell_type": "code",
      "source": [
        "county_data = pd.read_csv('/content/us-county-boundaries.csv', delimiter=';')"
      ],
      "metadata": {
        "id": "SIIXPAwS9dsh"
      },
      "execution_count": null,
      "outputs": []
    },
    {
      "cell_type": "code",
      "source": [
        "def get_hospitals_in_county(county_name, api_key):\n",
        "    url = f\"https://maps.googleapis.com/maps/api/place/textsearch/json?query=hospitals+in+{county_name}+county&key={api_key}\"\n",
        "    response = requests.get(url)\n",
        "    results = response.json().get('results', [])\n",
        "    return results"
      ],
      "metadata": {
        "id": "J0U1FTKH8Ep5"
      },
      "execution_count": null,
      "outputs": []
    },
    {
      "cell_type": "code",
      "source": [
        "def get_transit_options(hospital_location, api_key):\n",
        "    url = f\"https://maps.googleapis.com/maps/api/directions/json?origin={hospital_location}&destination={hospital_location}&mode=transit&key={api_key}\"\n",
        "    response = requests.get(url)\n",
        "    routes = response.json().get('routes', [])\n",
        "    return routes\n"
      ],
      "metadata": {
        "id": "R55cR2GU9VjS"
      },
      "execution_count": null,
      "outputs": []
    },
    {
      "cell_type": "code",
      "source": [
        "api_key = userdata.get('googlemaps')\n",
        "gmaps = googlemaps.Client(key=api_key)\n",
        "transit_data = []\n",
        "\n",
        "for county in county_data['NAME']:\n",
        "    hospitals = get_hospitals_in_county(county, api_key)\n",
        "    for hospital in hospitals:\n",
        "        hospital_location = f\"{hospital['geometry']['location']['lat']},{hospital['geometry']['location']['lng']}\"\n",
        "        transit_options = gmaps.places_nearby(location=hospital_location, radius=1000, type='transit_station')\n",
        "        transit_data.append({\n",
        "            'county': county,\n",
        "            'hospital_name': hospital['name'],\n",
        "            'transit_options': [transit_options['results'][x]['name'] for x in range(len(transit_options['results']))]\n",
        "        })\n",
        "\n",
        "transit_df = pd.DataFrame(transit_data)\n",
        "transit_df['num_transit_options'] = transit_df['transit_options'].apply(len)"
      ],
      "metadata": {
        "id": "OLxjHcz29f7R"
      },
      "execution_count": null,
      "outputs": []
    },
    {
      "cell_type": "code",
      "source": [
        "transit_by_county = transit_df.groupby('county')['num_transit_options'].mean().reset_index()\n",
        "\n",
        "plt.figure(figsize=(12, 6))\n",
        "\n",
        "sns.barplot(x='county', y='num_transit_options', data=transit_by_county)\n",
        "\n",
        "mean_transit_options = transit_by_county['num_transit_options'].mean()\n",
        "first_quartile = transit_by_county['num_transit_options'].quantile(0.25)\n",
        "third_quartile = transit_by_county['num_transit_options'].quantile(0.75)\n",
        "\n",
        "plt.axhline(y=mean_transit_options, color='red', linestyle='--', label='Mean')\n",
        "plt.axhline(y=first_quartile, color='green', linestyle='--', label='1st Quartile')\n",
        "plt.axhline(y=third_quartile, color='blue', linestyle='--', label='3rd Quartile')\n",
        "\n",
        "plt.legend()\n",
        "plt.style.use('fivethirtyeight')\n",
        "plt.xlabel('County')\n",
        "plt.ylabel('Average Number of Transit Options Near Hospitals')\n",
        "plt.title('Average Transit Options Near Hospitals per County')\n",
        "plt.xticks(rotation=90, ha='right')\n",
        "plt.tight_layout()\n",
        "plt.show()"
      ],
      "metadata": {
        "id": "i-g1FUAXQpoW"
      },
      "execution_count": null,
      "outputs": []
    },
    {
      "cell_type": "code",
      "source": [
        "transit_df.to_csv('transit_options_around_hospitals.csv', index=False)"
      ],
      "metadata": {
        "id": "9ajZYud5O2Jk"
      },
      "execution_count": null,
      "outputs": []
    },
    {
      "cell_type": "code",
      "source": [
        "imperial_transit_df = transit_df[transit_df['county'] == 'Imperial']\n",
        "imperial_transit_by_hospital = imperial_transit_df.groupby('hospital_name')['num_transit_options'].mean().reset_index()\n",
        "\n",
        "plt.figure(figsize=(12, 6))\n",
        "\n",
        "sns.barplot(x='hospital_name', y='num_transit_options', data=imperial_transit_by_hospital)\n",
        "\n",
        "mean_transit_options = imperial_transit_by_hospital['num_transit_options'].mean()\n",
        "plt.axhline(y=mean_transit_options, color='red', linestyle='--', label='Mean')\n",
        "\n",
        "plt.legend()\n",
        "plt.xlabel('Hospital')\n",
        "plt.ylabel('Transit Options Near Hospitals in Imperial County')\n",
        "plt.title('Transit Options Near Hospitals')\n",
        "plt.xticks(rotation=90, ha='right')\n",
        "plt.tight_layout()\n",
        "plt.show()"
      ],
      "metadata": {
        "id": "6ks2XEaZQY6f"
      },
      "execution_count": null,
      "outputs": []
    },
    {
      "cell_type": "code",
      "source": [
        "imperial_transit_df = transit_df[transit_df['county'] == 'San Diego']\n",
        "imperial_transit_by_hospital = imperial_transit_df.groupby('hospital_name')['num_transit_options'].mean().reset_index()\n",
        "\n",
        "plt.figure(figsize=(12, 15))\n",
        "\n",
        "sns.barplot(x='hospital_name', y='num_transit_options', data=imperial_transit_by_hospital)\n",
        "\n",
        "mean_transit_options = imperial_transit_by_hospital['num_transit_options'].mean()\n",
        "plt.axhline(y=mean_transit_options, color='red', linestyle='--', label='Mean')\n",
        "\n",
        "plt.legend()\n",
        "plt.xlabel('Hospital')\n",
        "plt.ylabel('Transit Options Near Hospitals in San Diego County')\n",
        "plt.title('Transit Options Near Hospitals')\n",
        "plt.xticks(rotation=90, ha='right')\n",
        "plt.tight_layout()\n",
        "plt.show()"
      ],
      "metadata": {
        "id": "kU0KeSsM0EyH"
      },
      "execution_count": null,
      "outputs": []
    },
    {
      "cell_type": "code",
      "source": [],
      "metadata": {
        "id": "JBz51O2i13U8"
      },
      "execution_count": null,
      "outputs": []
    }
  ]
}