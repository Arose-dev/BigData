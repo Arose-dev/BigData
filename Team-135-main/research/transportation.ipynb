{
 "cells": [
  {
   "cell_type": "code",
   "execution_count": 1,
   "metadata": {},
   "outputs": [],
   "source": [
    "import pandas as pd\n",
    "import numpy as np\n",
    "import matplotlib.pyplot as plt\n",
    "import seaborn as sns"
   ]
  },
  {
   "cell_type": "code",
   "execution_count": 2,
   "metadata": {},
   "outputs": [],
   "source": [
    "t_df = pd.read_csv('../impacts_research_data/ACSST1Y2023.S0802-2024-10-18T052440.csv')"
   ]
  },
  {
   "cell_type": "markdown",
   "metadata": {},
   "source": [
    "### Cleaning"
   ]
  },
  {
   "cell_type": "code",
   "execution_count": 3,
   "metadata": {},
   "outputs": [
    {
     "data": {
      "text/plain": [
       "2               16 to 19 years\n",
       "3               20 to 24 years\n",
       "4               25 to 44 years\n",
       "5               45 to 54 years\n",
       "6               55 to 59 years\n",
       "7            60 years and over\n",
       "Name: Label (Grouping), dtype: object"
      ]
     },
     "execution_count": 3,
     "metadata": {},
     "output_type": "execute_result"
    }
   ],
   "source": [
    "t_df['Label (Grouping)'][2:8]"
   ]
  },
  {
   "cell_type": "code",
   "execution_count": 4,
   "metadata": {},
   "outputs": [
    {
     "data": {
      "text/plain": [
       "Index(['Label (Grouping)', 'Imperial County, California!!Total!!Estimate',\n",
       "       'Imperial County, California!!Total!!Margin of Error',\n",
       "       'Imperial County, California!!Car, truck, or van -- drove alone!!Estimate',\n",
       "       'Imperial County, California!!Car, truck, or van -- drove alone!!Margin of Error',\n",
       "       'Imperial County, California!!Car, truck, or van -- carpooled!!Estimate',\n",
       "       'Imperial County, California!!Car, truck, or van -- carpooled!!Margin of Error',\n",
       "       'Imperial County, California!!Public transportation (excluding taxicab)!!Estimate',\n",
       "       'Imperial County, California!!Public transportation (excluding taxicab)!!Margin of Error',\n",
       "       'Imperial County, California!!Worked from home!!Estimate',\n",
       "       'Imperial County, California!!Worked from home!!Margin of Error'],\n",
       "      dtype='object')"
      ]
     },
     "execution_count": 4,
     "metadata": {},
     "output_type": "execute_result"
    }
   ],
   "source": [
    "t_df.columns"
   ]
  },
  {
   "cell_type": "code",
   "execution_count": 5,
   "metadata": {},
   "outputs": [],
   "source": [
    "def clean_int(input_str):\n",
    "    return int(\"\".join(input_str.split(',')))\n",
    "\n",
    "def clean_percent(input_str):\n",
    "    return int(\"\".join(input_str[0:-1].split('.')))/10.0\n",
    "\n",
    "def clean_percent_moe(input_str):\n",
    "    return int(\"\".join(input_str[1:].split('.')))/10.0\n",
    "\n",
    "def clean_moe(input_str):\n",
    "    return clean_int(input_str[1:])"
   ]
  },
  {
   "cell_type": "code",
   "execution_count": 6,
   "metadata": {},
   "outputs": [],
   "source": [
    "# going to be looking at the following things:\n",
    "# - how many people drove a car/truck/van alone\n",
    "# - how many people carpool to work\n",
    "# - how many people use public transport to get around\n",
    "# - this data in the form of a distribution of ages"
   ]
  },
  {
   "cell_type": "code",
   "execution_count": 7,
   "metadata": {},
   "outputs": [],
   "source": [
    "filtered_df = t_df.iloc[[0] + list(range(2, 9)), [0, 3, 5, 7]].reset_index(drop=True)"
   ]
  },
  {
   "cell_type": "code",
   "execution_count": 8,
   "metadata": {},
   "outputs": [
    {
     "data": {
      "text/html": [
       "<div>\n",
       "<style scoped>\n",
       "    .dataframe tbody tr th:only-of-type {\n",
       "        vertical-align: middle;\n",
       "    }\n",
       "\n",
       "    .dataframe tbody tr th {\n",
       "        vertical-align: top;\n",
       "    }\n",
       "\n",
       "    .dataframe thead th {\n",
       "        text-align: right;\n",
       "    }\n",
       "</style>\n",
       "<table border=\"1\" class=\"dataframe\">\n",
       "  <thead>\n",
       "    <tr style=\"text-align: right;\">\n",
       "      <th></th>\n",
       "      <th>Label (Grouping)</th>\n",
       "      <th>Imperial County, California!!Car, truck, or van -- drove alone!!Estimate</th>\n",
       "      <th>Imperial County, California!!Car, truck, or van -- carpooled!!Estimate</th>\n",
       "      <th>Imperial County, California!!Public transportation (excluding taxicab)!!Estimate</th>\n",
       "    </tr>\n",
       "  </thead>\n",
       "  <tbody>\n",
       "    <tr>\n",
       "      <th>0</th>\n",
       "      <td>Workers 16 years and over</td>\n",
       "      <td>49,397</td>\n",
       "      <td>6,213</td>\n",
       "      <td>0</td>\n",
       "    </tr>\n",
       "    <tr>\n",
       "      <th>1</th>\n",
       "      <td>16 to 19 years</td>\n",
       "      <td>3.0%</td>\n",
       "      <td>1.8%</td>\n",
       "      <td>-</td>\n",
       "    </tr>\n",
       "    <tr>\n",
       "      <th>2</th>\n",
       "      <td>20 to 24 years</td>\n",
       "      <td>9.2%</td>\n",
       "      <td>12.3%</td>\n",
       "      <td>-</td>\n",
       "    </tr>\n",
       "    <tr>\n",
       "      <th>3</th>\n",
       "      <td>25 to 44 years</td>\n",
       "      <td>47.6%</td>\n",
       "      <td>48.9%</td>\n",
       "      <td>-</td>\n",
       "    </tr>\n",
       "    <tr>\n",
       "      <th>4</th>\n",
       "      <td>45 to 54 years</td>\n",
       "      <td>20.5%</td>\n",
       "      <td>15.5%</td>\n",
       "      <td>-</td>\n",
       "    </tr>\n",
       "    <tr>\n",
       "      <th>5</th>\n",
       "      <td>55 to 59 years</td>\n",
       "      <td>9.9%</td>\n",
       "      <td>7.4%</td>\n",
       "      <td>-</td>\n",
       "    </tr>\n",
       "    <tr>\n",
       "      <th>6</th>\n",
       "      <td>60 years and over</td>\n",
       "      <td>9.8%</td>\n",
       "      <td>14.0%</td>\n",
       "      <td>-</td>\n",
       "    </tr>\n",
       "    <tr>\n",
       "      <th>7</th>\n",
       "      <td>Median age (years)</td>\n",
       "      <td>40.8</td>\n",
       "      <td>41.8</td>\n",
       "      <td>-</td>\n",
       "    </tr>\n",
       "  </tbody>\n",
       "</table>\n",
       "</div>"
      ],
      "text/plain": [
       "             Label (Grouping)  \\\n",
       "0   Workers 16 years and over   \n",
       "1              16 to 19 years   \n",
       "2              20 to 24 years   \n",
       "3              25 to 44 years   \n",
       "4              45 to 54 years   \n",
       "5              55 to 59 years   \n",
       "6           60 years and over   \n",
       "7          Median age (years)   \n",
       "\n",
       "  Imperial County, California!!Car, truck, or van -- drove alone!!Estimate  \\\n",
       "0                                             49,397                         \n",
       "1                                               3.0%                         \n",
       "2                                               9.2%                         \n",
       "3                                              47.6%                         \n",
       "4                                              20.5%                         \n",
       "5                                               9.9%                         \n",
       "6                                               9.8%                         \n",
       "7                                               40.8                         \n",
       "\n",
       "  Imperial County, California!!Car, truck, or van -- carpooled!!Estimate  \\\n",
       "0                                              6,213                       \n",
       "1                                               1.8%                       \n",
       "2                                              12.3%                       \n",
       "3                                              48.9%                       \n",
       "4                                              15.5%                       \n",
       "5                                               7.4%                       \n",
       "6                                              14.0%                       \n",
       "7                                               41.8                       \n",
       "\n",
       "  Imperial County, California!!Public transportation (excluding taxicab)!!Estimate  \n",
       "0                                                  0                                \n",
       "1                                                  -                                \n",
       "2                                                  -                                \n",
       "3                                                  -                                \n",
       "4                                                  -                                \n",
       "5                                                  -                                \n",
       "6                                                  -                                \n",
       "7                                                  -                                "
      ]
     },
     "execution_count": 8,
     "metadata": {},
     "output_type": "execute_result"
    }
   ],
   "source": [
    "filtered_df"
   ]
  },
  {
   "cell_type": "code",
   "execution_count": 9,
   "metadata": {},
   "outputs": [],
   "source": [
    "for col_name in filtered_df.columns:\n",
    "    filtered_df[col_name] = filtered_df[col_name].str.strip()"
   ]
  },
  {
   "cell_type": "code",
   "execution_count": 10,
   "metadata": {},
   "outputs": [],
   "source": [
    "def clean_label(label):\n",
    "    if 'and over' in label:\n",
    "        label = label.split(\" \")\n",
    "        return label[0] + \"+\"\n",
    "    else:\n",
    "        label = label.split(\" \")\n",
    "        return label[0] + \"-\" + label[2]"
   ]
  },
  {
   "cell_type": "code",
   "execution_count": 11,
   "metadata": {},
   "outputs": [],
   "source": [
    "filtered_df.columns = ['group', 'car/truck/van', 'carpool', 'public transport']"
   ]
  },
  {
   "cell_type": "code",
   "execution_count": 12,
   "metadata": {},
   "outputs": [],
   "source": [
    "filtered_df['group'][1:] = filtered_df['group'][1:].apply(clean_label)\n",
    "filtered_df['car/truck/van'][1:] = filtered_df['car/truck/van'][1:].apply(clean_percent)\n",
    "filtered_df['carpool'][1:] = filtered_df['carpool'][1:].apply(clean_percent)"
   ]
  },
  {
   "cell_type": "code",
   "execution_count": 13,
   "metadata": {},
   "outputs": [],
   "source": [
    "filtered_df['car/truck/van'].iloc[0] = clean_int(filtered_df['car/truck/van'][0])\n",
    "filtered_df['carpool'].iloc[0] = clean_int(filtered_df['carpool'][0])"
   ]
  },
  {
   "cell_type": "code",
   "execution_count": 14,
   "metadata": {},
   "outputs": [],
   "source": [
    "filtered_df['car/truck/van'][1:] = filtered_df['car/truck/van'][1:].apply(\n",
    "    lambda x: (float(x)/100.0) * filtered_df.iloc[0, 1]\n",
    "    )\n",
    "filtered_df['carpool'][1:] = filtered_df['carpool'][1:].apply(\n",
    "    lambda x: (float(x)/100.0) * filtered_df.iloc[0, 1]\n",
    "    )\n",
    "filtered_df['public transport'] = filtered_df['public transport'].apply(lambda x: 0) # no public transport\n"
   ]
  },
  {
   "cell_type": "code",
   "execution_count": 15,
   "metadata": {},
   "outputs": [
    {
     "data": {
      "text/html": [
       "<div>\n",
       "<style scoped>\n",
       "    .dataframe tbody tr th:only-of-type {\n",
       "        vertical-align: middle;\n",
       "    }\n",
       "\n",
       "    .dataframe tbody tr th {\n",
       "        vertical-align: top;\n",
       "    }\n",
       "\n",
       "    .dataframe thead th {\n",
       "        text-align: right;\n",
       "    }\n",
       "</style>\n",
       "<table border=\"1\" class=\"dataframe\">\n",
       "  <thead>\n",
       "    <tr style=\"text-align: right;\">\n",
       "      <th></th>\n",
       "      <th>group</th>\n",
       "      <th>car/truck/van</th>\n",
       "      <th>carpool</th>\n",
       "      <th>public transport</th>\n",
       "    </tr>\n",
       "  </thead>\n",
       "  <tbody>\n",
       "    <tr>\n",
       "      <th>0</th>\n",
       "      <td>Workers 16 years and over</td>\n",
       "      <td>49397</td>\n",
       "      <td>6213</td>\n",
       "      <td>0</td>\n",
       "    </tr>\n",
       "    <tr>\n",
       "      <th>1</th>\n",
       "      <td>16-19</td>\n",
       "      <td>1481.91</td>\n",
       "      <td>889.146</td>\n",
       "      <td>0</td>\n",
       "    </tr>\n",
       "    <tr>\n",
       "      <th>2</th>\n",
       "      <td>20-24</td>\n",
       "      <td>4544.524</td>\n",
       "      <td>6075.831</td>\n",
       "      <td>0</td>\n",
       "    </tr>\n",
       "    <tr>\n",
       "      <th>3</th>\n",
       "      <td>25-44</td>\n",
       "      <td>23512.972</td>\n",
       "      <td>24155.133</td>\n",
       "      <td>0</td>\n",
       "    </tr>\n",
       "    <tr>\n",
       "      <th>4</th>\n",
       "      <td>45-54</td>\n",
       "      <td>10126.385</td>\n",
       "      <td>7656.535</td>\n",
       "      <td>0</td>\n",
       "    </tr>\n",
       "    <tr>\n",
       "      <th>5</th>\n",
       "      <td>55-59</td>\n",
       "      <td>4890.303</td>\n",
       "      <td>3655.378</td>\n",
       "      <td>0</td>\n",
       "    </tr>\n",
       "    <tr>\n",
       "      <th>6</th>\n",
       "      <td>60+</td>\n",
       "      <td>4840.906</td>\n",
       "      <td>6915.58</td>\n",
       "      <td>0</td>\n",
       "    </tr>\n",
       "    <tr>\n",
       "      <th>7</th>\n",
       "      <td>Median-(years)</td>\n",
       "      <td>1975.88</td>\n",
       "      <td>2025.277</td>\n",
       "      <td>0</td>\n",
       "    </tr>\n",
       "  </tbody>\n",
       "</table>\n",
       "</div>"
      ],
      "text/plain": [
       "                       group car/truck/van    carpool  public transport\n",
       "0  Workers 16 years and over         49397       6213                 0\n",
       "1                      16-19       1481.91    889.146                 0\n",
       "2                      20-24      4544.524   6075.831                 0\n",
       "3                      25-44     23512.972  24155.133                 0\n",
       "4                      45-54     10126.385   7656.535                 0\n",
       "5                      55-59      4890.303   3655.378                 0\n",
       "6                        60+      4840.906    6915.58                 0\n",
       "7             Median-(years)       1975.88   2025.277                 0"
      ]
     },
     "execution_count": 15,
     "metadata": {},
     "output_type": "execute_result"
    }
   ],
   "source": [
    "filtered_df"
   ]
  },
  {
   "cell_type": "code",
   "execution_count": 16,
   "metadata": {},
   "outputs": [],
   "source": [
    "cleaned_t_df = filtered_df.copy(deep=True)"
   ]
  },
  {
   "cell_type": "code",
   "execution_count": 18,
   "metadata": {},
   "outputs": [],
   "source": [
    "# cleaned_t_df.to_csv('cleaned_transport.csv')"
   ]
  },
  {
   "cell_type": "code",
   "execution_count": 22,
   "metadata": {},
   "outputs": [],
   "source": [
    "plt.style.use('fivethirtyeight')"
   ]
  },
  {
   "cell_type": "code",
   "execution_count": 28,
   "metadata": {},
   "outputs": [
    {
     "data": {
      "image/png": "[encoded data removed]",
      "text/plain": [
       "<Figure size 1000x600 with 1 Axes>"
      ]
     },
     "metadata": {},
     "output_type": "display_data"
    }
   ],
   "source": [
    "type = cleaned_t_df.columns[1:]\n",
    "num_people = cleaned_t_df.iloc[0, 1:]\n",
    "fig, ax = plt.subplots(figsize=(10, 6))\n",
    "\n",
    "plt.bar(type, num_people, color = '#85ba50', width=0.3)\n",
    "\n",
    "plt.title('Transportation Distribution', fontsize=16)\n",
    "plt.ylabel('Number of People', fontsize=14)\n",
    "\n",
    "plt.xlabel('Transportation Type', fontsize=14)\n",
    "\n",
    "# plt.xticks(rotation=45, ha='right')\n",
    "\n",
    "for spine in ax.spines.values():\n",
    "    spine.set_edgecolor('black')\n",
    "    spine.set_linewidth(2)\n",
    "\n",
    "plt.text(-0.1, -0.2, 'Source: 2023 ACS 1-Year Estimates Subject Table, U.S. Census Bureau', \n",
    "         transform=ax.transAxes, fontsize=10, va='top', ha='left')\n",
    "\n",
    "plt.tight_layout()\n",
    "plt.show()"
   ]
  },
  {
   "cell_type": "code",
   "execution_count": null,
   "metadata": {},
   "outputs": [],
   "source": []
  }
 ],
 "metadata": {
  "kernelspec": {
   "display_name": "Python 3",
   "language": "python",
   "name": "python3"
  },
  "language_info": {
   "codemirror_mode": {
    "name": "ipython",
    "version": 3
   },
   "file_extension": ".py",
   "mimetype": "text/x-python",
   "name": "python",
   "nbconvert_exporter": "python",
   "pygments_lexer": "ipython3",
   "version": "3.11.4"
  }
 },
 "nbformat": 4,
 "nbformat_minor": 2
}
